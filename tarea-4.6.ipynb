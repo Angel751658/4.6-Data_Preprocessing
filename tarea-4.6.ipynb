{
 "cells": [
  {
   "cell_type": "markdown",
   "id": "cff69da7",
   "metadata": {},
   "source": [
    "<div class=\"alert alert-block alert-info\">\n",
    "<span style=\"color: rgb(0,53,91);\">\n",
    "<center><img src=\"https://www.redage.org/sites/default/files/styles/large/public/img-logo-institucion/logo_iteso.jpg?itok=IzloBJS1\" style=\"width:500px;height:142px;\" title=\"Logo ITESO\"></center>\n",
    "<font face = \"Times New Roman\" size = \"6\"><b><center>Programacion para Mineria de Datos</center></b></font>\n",
    "\n",
    "<b><font back = \"Times New Roman\" size = \"5\"><center>Escalamiento de Datos</center></font>\n",
    "<div align=\"right\"><font face = \"Times New Roman\" size = \"2\">Nombres:Angel Aceves Manzo</font></div>\n",
    "<div align=\"right\"><font face = \"Times New Roman\" size = \"2\"> Karen Elizabeth González Santana</font></div>\n",
    "</span></div>"
   ]
  }
 ],
 "metadata": {
  "language_info": {
   "name": "python"
  }
 },
 "nbformat": 4,
 "nbformat_minor": 5
}
